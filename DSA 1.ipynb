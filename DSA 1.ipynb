{
 "cells": [
  {
   "cell_type": "code",
   "execution_count": 4,
   "id": "9f8cb4c0-bc00-4aba-b99b-81f353774cec",
   "metadata": {},
   "outputs": [
    {
     "name": "stdout",
     "output_type": "stream",
     "text": [
      "144\n"
     ]
    }
   ],
   "source": [
    "#brute force approach\n",
    "def max_sum_subarray(arr):\n",
    "    max_sum=float('-inf')\n",
    "    for i in range(len(arr)):\n",
    "        current_sum=0\n",
    "        for j in range(i,len(arr)):\n",
    "            current_sum+=arr[j]\n",
    "            max_sum=max(max_sum,current_sum)\n",
    "    return max_sum\n",
    "arr=[43,56,45,-10]\n",
    "print(max_sum_subarray(arr))"
   ]
  },
  {
   "cell_type": "code",
   "execution_count": 11,
   "id": "5744b2ac-9a52-4ea6-9038-afc04e75b795",
   "metadata": {},
   "outputs": [
    {
     "name": "stdout",
     "output_type": "stream",
     "text": [
      "[3, 9, 10, 27, 38, 43, 82]\n"
     ]
    }
   ],
   "source": [
    "def merge_sort(arr):\n",
    "    if len(arr) > 1:\n",
    "        mid = len(arr) // 2\n",
    "        left_half = arr[:mid]\n",
    "        right_half = arr[mid:]\n",
    "        \n",
    "        \n",
    "        merge_sort(left_half)\n",
    "        merge_sort(right_half)\n",
    "        \n",
    "        \n",
    "        i = j = k = 0\n",
    "        \n",
    "        while i < len(left_half) and j < len(right_half):\n",
    "            if left_half[i] < right_half[j]:\n",
    "                arr[k] = left_half[i]\n",
    "                i += 1\n",
    "            else:\n",
    "                arr[k] = right_half[j]\n",
    "                j += 1\n",
    "            k += 1\n",
    "        \n",
    "       \n",
    "        while i < len(left_half):\n",
    "            arr[k] = left_half[i]\n",
    "            i += 1\n",
    "            k += 1\n",
    "        \n",
    "        while j < len(right_half):\n",
    "            arr[k] = right_half[j]\n",
    "            j += 1\n",
    "            k += 1\n",
    "\n",
    "\n",
    "arr = [38, 27, 43, 3, 9, 82, 10]\n",
    "merge_sort(arr)\n",
    "print(arr)  \n"
   ]
  },
  {
   "cell_type": "code",
   "execution_count": 12,
   "id": "919809bd-32c1-4be6-8315-3692e3713a4d",
   "metadata": {},
   "outputs": [
    {
     "name": "stdout",
     "output_type": "stream",
     "text": [
      "9\n"
     ]
    }
   ],
   "source": [
    "def max_sum_subarray(arr, k):\n",
    "    if len(arr) < k:\n",
    "        return -1  \n",
    "    max_sum = 0\n",
    "    window_sum = sum(arr[:k])  \n",
    "    max_sum = window_sum\n",
    "    \n",
    "    for i in range(1, len(arr) - k + 1):\n",
    "        window_sum = window_sum - arr[i - 1] + arr[i + k - 1]\n",
    "        if window_sum > max_sum:\n",
    "            max_sum = window_sum\n",
    "    \n",
    "    return max_sum\n",
    "\n",
    "\n",
    "arr = [2, 1, 5, 1, 3, 2]\n",
    "k = 3\n",
    "print(max_sum_subarray(arr, k))  "
   ]
  },
  {
   "cell_type": "code",
   "execution_count": 16,
   "id": "811e77d1-07e4-4e91-8e90-6fb631e19e1d",
   "metadata": {},
   "outputs": [
    {
     "name": "stdout",
     "output_type": "stream",
     "text": [
      "[2, 7]\n"
     ]
    }
   ],
   "source": [
    "#two pointers\n",
    "def find_pair(arr, target):\n",
    "    left = 0\n",
    "    right = len(arr) - 1\n",
    "    \n",
    "    while left < right:\n",
    "        current_sum = arr[left] + arr[right]\n",
    "        \n",
    "        if current_sum == target:\n",
    "            return [arr[left], arr[right]]\n",
    "        elif current_sum < target:\n",
    "            left += 1\n",
    "        else:\n",
    "            right -= 1\n",
    "    \n",
    "    return None  \n",
    "\n",
    "\n",
    "arr = [1, 2, 3, 4, 5, 6, 7]\n",
    "target = 9\n",
    "result = find_pair(arr, target)\n",
    "print(result)  \n"
   ]
  },
  {
   "cell_type": "code",
   "execution_count": 17,
   "id": "645c759c-4217-4bee-b3b6-35b3628e4a61",
   "metadata": {},
   "outputs": [
    {
     "name": "stdout",
     "output_type": "stream",
     "text": [
      "Target 11 found at index 5.\n"
     ]
    }
   ],
   "source": [
    " #binary search\n",
    "def binary_search(arr, target):\n",
    "    left, right = 0, len(arr) - 1\n",
    "    \n",
    "    while left <= right:\n",
    "        mid = (left + right) // 2\n",
    "        if arr[mid] == target:\n",
    "            return mid  \n",
    "        elif arr[mid] < target:\n",
    "            left = mid + 1  \n",
    "        else:\n",
    "            right = mid - 1  \n",
    "    \n",
    "    return -1  \n",
    "\n",
    "arr = [1, 3, 5, 7, 9, 11, 13, 15, 17, 19]\n",
    "target = 11\n",
    "result = binary_search(arr, target)\n",
    "if result != -1:\n",
    "    print(f\"Target {target} found at index {result}.\")\n",
    "else:\n",
    "    print(f\"Target {target} not found in the array.\")\n"
   ]
  },
  {
   "cell_type": "code",
   "execution_count": 2,
   "id": "2eb0f9f8-baf1-4d2e-afc5-b65030dcfc50",
   "metadata": {},
   "outputs": [
    {
     "name": "stdout",
     "output_type": "stream",
     "text": [
      "Sorted array: [1, 2, 3, 3, 4, 5, 6, 7]\n"
     ]
    }
   ],
   "source": [
    "def quicksort(array, low, high):\n",
    "    if low < high:\n",
    "        pivot_index = partition(array, low, high)\n",
    "        quicksort(array, low, pivot_index - 1)\n",
    "        quicksort(array, pivot_index + 1, high)\n",
    "\n",
    "def partition(array, low, high):\n",
    "    pivot = array[high]\n",
    "    i = low - 1\n",
    "    for j in range(low, high):\n",
    "        if array[j] < pivot:\n",
    "            i += 1\n",
    "            array[i], array[j] = array[j], array[i]\n",
    "    array[i + 1], array[high] = array[high], array[i + 1]\n",
    "    return i + 1\n",
    "\n",
    "\n",
    "array = [5,3,2,6,4,1,3,7]\n",
    "quicksort(array, 0, len(array) - 1)\n",
    "print(\"Sorted array:\", array)\n"
   ]
  },
  {
   "cell_type": "code",
   "execution_count": 5,
   "id": "edf0a647-e3fa-41ff-9e32-23d4c33a4a4f",
   "metadata": {},
   "outputs": [
    {
     "name": "stdout",
     "output_type": "stream",
     "text": [
      "[0, 1, 1, 2, 3, 5, 8, 13, 21, 34]\n"
     ]
    }
   ],
   "source": [
    "def generate_fibonacci(n):\n",
    "    if n <= 0:\n",
    "        return []\n",
    "    fibonacci_series = [0, 1]\n",
    "    if n == 1:\n",
    "        return fibonacci_series[:1]\n",
    "    for i in range(2, n):\n",
    "        next_term = fibonacci_series[-1] + fibonacci_series[-2]\n",
    "        fibonacci_series.append(next_term)\n",
    "    return fibonacci_series\n",
    "n = 10\n",
    "print(generate_fibonacci(n))"
   ]
  },
  {
   "cell_type": "code",
   "execution_count": null,
   "id": "5eeba7cb-e505-4668-81c7-1b6e8aae56b2",
   "metadata": {},
   "outputs": [],
   "source": []
  }
 ],
 "metadata": {
  "kernelspec": {
   "display_name": "Python 3 (ipykernel)",
   "language": "python",
   "name": "python3"
  },
  "language_info": {
   "codemirror_mode": {
    "name": "ipython",
    "version": 3
   },
   "file_extension": ".py",
   "mimetype": "text/x-python",
   "name": "python",
   "nbconvert_exporter": "python",
   "pygments_lexer": "ipython3",
   "version": "3.11.7"
  }
 },
 "nbformat": 4,
 "nbformat_minor": 5
}
