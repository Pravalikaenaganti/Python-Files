{
 "cells": [
  {
   "cell_type": "code",
   "execution_count": 1,
   "id": "db4f304f-8a9e-4b10-9776-7173110fca37",
   "metadata": {},
   "outputs": [
    {
     "name": "stdout",
     "output_type": "stream",
     "text": [
      "[1, 2, 3, 4, 5, 6, 7, 8, 9, 10]\n",
      "385\n"
     ]
    }
   ],
   "source": [
    "def squares(x):\n",
    "    return(x**2)\n",
    "    squares=[]\n",
    "squares=list(filter(squares,range(1,11)))\n",
    "print(squares)\n",
    "sum=0\n",
    "for i in squares:\n",
    "    sum+=i**2\n",
    "print(sum)    \n",
    "    "
   ]
  },
  {
   "cell_type": "code",
   "execution_count": null,
   "id": "20845689-7c7e-4222-90f9-a2be0868dba7",
   "metadata": {},
   "outputs": [],
   "source": []
  }
 ],
 "metadata": {
  "kernelspec": {
   "display_name": "Python 3 (ipykernel)",
   "language": "python",
   "name": "python3"
  },
  "language_info": {
   "codemirror_mode": {
    "name": "ipython",
    "version": 3
   },
   "file_extension": ".py",
   "mimetype": "text/x-python",
   "name": "python",
   "nbconvert_exporter": "python",
   "pygments_lexer": "ipython3",
   "version": "3.11.7"
  }
 },
 "nbformat": 4,
 "nbformat_minor": 5
}
