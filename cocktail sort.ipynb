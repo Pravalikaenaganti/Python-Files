{
 "cells": [
  {
   "cell_type": "code",
   "execution_count": 4,
   "id": "0f99ab64-77ec-4d8d-a056-eeff604563ed",
   "metadata": {},
   "outputs": [
    {
     "name": "stdout",
     "output_type": "stream",
     "text": [
      "Sorted array is:\n",
      "0 1 2 2 4 5 8 "
     ]
    }
   ],
   "source": [
    "# Python program for implementation of Cocktail Sort\n",
    "\n",
    "def cocktailSort(a):\n",
    "\tn = len(a)\n",
    "\tswapped = True\n",
    "\tstart = 0\n",
    "\tend = n-1\n",
    "\twhile (swapped==True):\n",
    "\n",
    "\t\n",
    "\t\tswapped = False\n",
    "\n",
    "\t\t\n",
    "\t\tfor i in range (start, end):\n",
    "\t\t\tif (a[i] > a[i+1]) :\n",
    "\t\t\t\ta[i], a[i+1]= a[i+1], a[i]\n",
    "\t\t\t\tswapped=True\n",
    "\n",
    "\t\t\n",
    "\t\tif (swapped==False):\n",
    "\t\t\tbreak\n",
    "\n",
    "\t\t\n",
    "\t\tswapped = False\n",
    "\n",
    "\t\t\n",
    "\t\tend = end-1\n",
    "\n",
    "\t\t\n",
    "\t\tfor i in range(end-1, start-1,-1):\n",
    "\t\t\tif (a[i] > a[i+1]):\n",
    "\t\t\t\ta[i], a[i+1] = a[i+1], a[i]\n",
    "\t\t\t\tswapped = True\n",
    "\n",
    "\t\t\n",
    "\t\tstart = start+1\n",
    "\n",
    "\n",
    "a = [5, 1, 4, 2, 8, 0, 2]\n",
    "cocktailSort(a)\n",
    "print(\"Sorted array is:\")\n",
    "for i in range(len(a)):\n",
    "\tprint (\"%d\" %a[i],end=\" \")\n"
   ]
  },
  {
   "cell_type": "code",
   "execution_count": null,
   "id": "410b25ff-39f5-471a-9f67-fae810393ffe",
   "metadata": {},
   "outputs": [],
   "source": []
  }
 ],
 "metadata": {
  "kernelspec": {
   "display_name": "Python 3 (ipykernel)",
   "language": "python",
   "name": "python3"
  },
  "language_info": {
   "codemirror_mode": {
    "name": "ipython",
    "version": 3
   },
   "file_extension": ".py",
   "mimetype": "text/x-python",
   "name": "python",
   "nbconvert_exporter": "python",
   "pygments_lexer": "ipython3",
   "version": "3.11.7"
  }
 },
 "nbformat": 4,
 "nbformat_minor": 5
}
