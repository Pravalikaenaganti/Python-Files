{
 "cells": [
  {
   "cell_type": "code",
   "execution_count": 1,
   "id": "5c137687-29ba-4d4c-8237-2a916e90cdc0",
   "metadata": {},
   "outputs": [
    {
     "name": "stdin",
     "output_type": "stream",
     "text": [
      "Do you choose rock, paper or scissors?  paper\n"
     ]
    },
    {
     "name": "stdout",
     "output_type": "stream",
     "text": [
      "\n",
      "Computer chose rock, you chose paper.\n",
      "\n",
      "Paper covers rock! You win!\n"
     ]
    }
   ],
   "source": [
    "#rock paper scissors game\n",
    "import random\n",
    "\n",
    "def play():\n",
    "    choices = [\"rock\", \"paper\", \"scissors\"]\n",
    "    computer = random.choice(choices)\n",
    "    user = input(\"Do you choose rock, paper or scissors? \").lower()\n",
    "    while user not in choices:\n",
    "        user = input(\"Invalid input. Please enter rock, paper, or scissors: \").lower()\n",
    "    print(f\"\\nComputer chose {computer}, you chose {user}.\\n\")\n",
    "    if user == computer:\n",
    "        return \"It's a tie!\"\n",
    "    if user == \"rock\":\n",
    "        if computer == \"scissors\":\n",
    "            return \"Rock smashes scissors! You win!\"\n",
    "        else:\n",
    "            return \"Paper covers rock. You lose.\"\n",
    "    if user == \"paper\":\n",
    "        if computer == \"rock\":\n",
    "            return \"Paper covers rock! You win!\"\n",
    "        else:\n",
    "            return \"Scissors cuts paper. You lose.\"\n",
    "    if user == \"scissors\":\n",
    "        if computer == \"paper\":\n",
    "            return \"Scissors cuts paper! You win!\"\n",
    "        else:\n",
    "            return \"Rock smashes scissors. You lose.\"\n",
    "\n",
    "print(play())"
   ]
  },
  {
   "cell_type": "code",
   "execution_count": null,
   "id": "ee277d00-f1b3-45f4-8a2d-f8c68cfd9972",
   "metadata": {},
   "outputs": [],
   "source": []
  }
 ],
 "metadata": {
  "kernelspec": {
   "display_name": "Python 3 (ipykernel)",
   "language": "python",
   "name": "python3"
  },
  "language_info": {
   "codemirror_mode": {
    "name": "ipython",
    "version": 3
   },
   "file_extension": ".py",
   "mimetype": "text/x-python",
   "name": "python",
   "nbconvert_exporter": "python",
   "pygments_lexer": "ipython3",
   "version": "3.11.7"
  }
 },
 "nbformat": 4,
 "nbformat_minor": 5
}
