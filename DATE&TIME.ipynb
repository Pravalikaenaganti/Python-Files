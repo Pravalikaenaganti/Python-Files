{
 "cells": [
  {
   "cell_type": "code",
   "execution_count": 1,
   "id": "a2bb500c-378b-4dcd-8797-eac4276214ad",
   "metadata": {},
   "outputs": [
    {
     "name": "stdout",
     "output_type": "stream",
     "text": [
      "Current year: 2024\n",
      "Current month: 7\n",
      "Current day: 16\n"
     ]
    }
   ],
   "source": [
    "from datetime import date\n",
    "\n",
    "# date object of today's date\n",
    "today = date.today() \n",
    "\n",
    "print(\"Current year:\", today.year)\n",
    "print(\"Current month:\", today.month)\n",
    "print(\"Current day:\", today.day)"
   ]
  },
  {
   "cell_type": "code",
   "execution_count": 2,
   "id": "75092b17-e3a2-448a-8d42-bc645577183c",
   "metadata": {},
   "outputs": [
    {
     "name": "stdout",
     "output_type": "stream",
     "text": [
      "Min Date supported 0001-01-01\n",
      "Max Date supported 9999-12-31\n"
     ]
    }
   ],
   "source": [
    "from datetime import date\n",
    "\n",
    "# Getting min date\n",
    "mindate = date.min\n",
    "print(\"Min Date supported\", mindate)\n",
    "\n",
    "# Getting max date\n",
    "maxdate = date.max\n",
    "print(\"Max Date supported\", maxdate)\n"
   ]
  },
  {
   "cell_type": "code",
   "execution_count": 3,
   "id": "47fb9c7e-58af-4118-99aa-a947e1fc9968",
   "metadata": {},
   "outputs": [
    {
     "name": "stdout",
     "output_type": "stream",
     "text": [
      "Min Time supported 00:00:00\n",
      "Max Time supported 23:59:59.999999\n"
     ]
    }
   ],
   "source": [
    "from datetime import time\n",
    "\n",
    "# Getting min time\n",
    "mintime = time.min\n",
    "print(\"Min Time supported\", mintime)\n",
    "\n",
    "# Getting max time\n",
    "maxtime = time.max\n",
    "print(\"Max Time supported\", maxtime)\n"
   ]
  },
  {
   "cell_type": "code",
   "execution_count": 4,
   "id": "e079b22b-4506-4686-8cf1-3501759c596c",
   "metadata": {},
   "outputs": [
    {
     "name": "stdout",
     "output_type": "stream",
     "text": [
      "2024-07-16 09:36:41.102794+00:00\n",
      "2024-07-16 15:06:41.171087+05:30\n",
      "2024-07-16 04:36:41.171087-05:00\n",
      "2024-07-16 12:36:41.171087+03:00\n",
      "2024-07-16 11:36:41.171087+02:00\n",
      "2024-07-16 06:36:41.171087-03:00\n"
     ]
    }
   ],
   "source": [
    "import datetime \n",
    "import pytz \n",
    "\n",
    "dtObject_utc = datetime.datetime.now(pytz.utc) \n",
    "\n",
    "dtObject_asia = datetime.datetime.now(pytz.timezone('Asia/Kolkata')) \n",
    "dtObject_usc = datetime.datetime.now(pytz.timezone('US/Central')) \n",
    "dtObject_turkey = datetime.datetime.now(pytz.timezone('Turkey')) \n",
    "dtObject_eoslo = datetime.datetime.now(pytz.timezone('Europe/Oslo')) \n",
    "dtObject_abelem = datetime.datetime.now(pytz.timezone('America/Belem')) \n",
    "\n",
    "print(dtObject_utc) \n",
    "\n",
    "print(dtObject_asia) \n",
    "print(dtObject_usc) \n",
    "print(dtObject_turkey) \n",
    "print(dtObject_eoslo) \n",
    "print(dtObject_abelem)\n"
   ]
  },
  {
   "cell_type": "code",
   "execution_count": null,
   "id": "d9a0c31a-16c5-4984-a5cd-60dba9652e2c",
   "metadata": {},
   "outputs": [],
   "source": []
  }
 ],
 "metadata": {
  "kernelspec": {
   "display_name": "Python 3 (ipykernel)",
   "language": "python",
   "name": "python3"
  },
  "language_info": {
   "codemirror_mode": {
    "name": "ipython",
    "version": 3
   },
   "file_extension": ".py",
   "mimetype": "text/x-python",
   "name": "python",
   "nbconvert_exporter": "python",
   "pygments_lexer": "ipython3",
   "version": "3.11.7"
  }
 },
 "nbformat": 4,
 "nbformat_minor": 5
}
