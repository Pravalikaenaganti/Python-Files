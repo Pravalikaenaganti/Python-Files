{
 "cells": [
  {
   "cell_type": "code",
   "execution_count": 1,
   "id": "2fbf23fb-25d9-4498-98ff-9f0b8e400d89",
   "metadata": {},
   "outputs": [
    {
     "name": "stdout",
     "output_type": "stream",
     "text": [
      "Integer form of Roman Numeral is\n",
      "1904\n"
     ]
    }
   ],
   "source": [
    "# Python program to convert Roman \n",
    "# Numerals to Numbers\n",
    "\n",
    "# This function returns value of \n",
    "# each Roman symbol\n",
    "def value(r):\n",
    "\tif (r == 'I'):\n",
    "\t\treturn 1\n",
    "\tif (r == 'V'):\n",
    "\t\treturn 5\n",
    "\tif (r == 'X'):\n",
    "\t\treturn 10\n",
    "\tif (r == 'L'):\n",
    "\t\treturn 50\n",
    "\tif (r == 'C'):\n",
    "\t\treturn 100\n",
    "\tif (r == 'D'):\n",
    "\t\treturn 500\n",
    "\tif (r == 'M'):\n",
    "\t\treturn 1000\n",
    "\treturn -1\n",
    "\n",
    "def romanToDecimal(str):\n",
    "\tres = 0\n",
    "\ti = 0\n",
    "\n",
    "\twhile (i < len(str)):\n",
    "\n",
    "\t\t# Getting value of symbol s[i]\n",
    "\t\ts1 = value(str[i])\n",
    "\n",
    "\t\tif (i + 1 < len(str)):\n",
    "\n",
    "\t\t\t# Getting value of symbol s[i + 1]\n",
    "\t\t\ts2 = value(str[i + 1])\n",
    "\n",
    "\t\t\t# Comparing both values\n",
    "\t\t\tif (s1 >= s2):\n",
    "\n",
    "\t\t\t\t# Value of current symbol is greater\n",
    "\t\t\t\t# or equal to the next symbol\n",
    "\t\t\t\tres = res + s1\n",
    "\t\t\t\ti = i + 1\n",
    "\t\t\telse:\n",
    "\n",
    "\t\t\t\t# Value of current symbol is greater\n",
    "\t\t\t\t# or equal to the next symbol\n",
    "\t\t\t\tres = res + s2 - s1\n",
    "\t\t\t\ti = i + 2\n",
    "\t\telse:\n",
    "\t\t\tres = res + s1\n",
    "\t\t\ti = i + 1\n",
    "\n",
    "\treturn res\n",
    "\n",
    "# Driver code\n",
    "print(\"Integer form of Roman Numeral is\"),\n",
    "print(romanToDecimal(\"MCMIV\"))"
   ]
  },
  {
   "cell_type": "code",
   "execution_count": null,
   "id": "8b11fc58-37a5-49c6-8a03-6ad322b5e2f8",
   "metadata": {},
   "outputs": [],
   "source": []
  }
 ],
 "metadata": {
  "kernelspec": {
   "display_name": "Python 3 (ipykernel)",
   "language": "python",
   "name": "python3"
  },
  "language_info": {
   "codemirror_mode": {
    "name": "ipython",
    "version": 3
   },
   "file_extension": ".py",
   "mimetype": "text/x-python",
   "name": "python",
   "nbconvert_exporter": "python",
   "pygments_lexer": "ipython3",
   "version": "3.11.7"
  }
 },
 "nbformat": 4,
 "nbformat_minor": 5
}
