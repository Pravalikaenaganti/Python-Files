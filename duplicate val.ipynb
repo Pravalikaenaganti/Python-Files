{
 "cells": [
  {
   "cell_type": "code",
   "execution_count": 1,
   "id": "fb7002e9-2b5b-4737-bfb4-db34d19c2ea4",
   "metadata": {},
   "outputs": [
    {
     "name": "stdout",
     "output_type": "stream",
     "text": [
      "[1, 2, 3, 4, 5, 66, 98, 34, 100, 235, 44, 76, 21, 54, 55, 56]\n"
     ]
    }
   ],
   "source": [
    "s=[1,2,3,4,5,4,3,66,55,44,66,21,98,76,54,34,56,76,21,98,100,235,235]\n",
    "p=list(set(s))\n",
    "print(p)"
   ]
  },
  {
   "cell_type": "code",
   "execution_count": null,
   "id": "44894aa8-0881-46c9-bd1e-d4c07ec8294b",
   "metadata": {},
   "outputs": [],
   "source": []
  }
 ],
 "metadata": {
  "kernelspec": {
   "display_name": "Python 3 (ipykernel)",
   "language": "python",
   "name": "python3"
  },
  "language_info": {
   "codemirror_mode": {
    "name": "ipython",
    "version": 3
   },
   "file_extension": ".py",
   "mimetype": "text/x-python",
   "name": "python",
   "nbconvert_exporter": "python",
   "pygments_lexer": "ipython3",
   "version": "3.11.7"
  }
 },
 "nbformat": 4,
 "nbformat_minor": 5
}
